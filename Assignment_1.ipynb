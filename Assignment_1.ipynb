{
  "nbformat": 4,
  "nbformat_minor": 0,
  "metadata": {
    "colab": {
      "provenance": [],
      "authorship_tag": "ABX9TyOJkY0ucoif6/mCtY/uU3oW",
      "include_colab_link": true
    },
    "kernelspec": {
      "name": "python3",
      "display_name": "Python 3"
    },
    "language_info": {
      "name": "python"
    }
  },
  "cells": [
    {
      "cell_type": "markdown",
      "metadata": {
        "id": "view-in-github",
        "colab_type": "text"
      },
      "source": [
        "<a href=\"https://colab.research.google.com/github/lucifer800/python_lab_Assignment/blob/main/Assignment_1.ipynb\" target=\"_parent\"><img src=\"https://colab.research.google.com/assets/colab-badge.svg\" alt=\"Open In Colab\"/></a>"
      ]
    },
    {
      "cell_type": "code",
      "execution_count": null,
      "metadata": {
        "colab": {
          "base_uri": "https://localhost:8080/"
        },
        "id": "JmXiRQtLzIfa",
        "outputId": "d26e5103-1893-4f6f-acab-46f398ec157c"
      },
      "outputs": [
        {
          "output_type": "stream",
          "name": "stdout",
          "text": [
            "square= 4\n",
            "cube= 8\n"
          ]
        }
      ],
      "source": [
        "a=2\n",
        "print(\"square=\",a*a)\n",
        "print(\"cube=\",a**3)"
      ]
    },
    {
      "cell_type": "code",
      "source": [
        "a=int(input(\"enter 1st=\"))\n",
        "b=int(input(\"enter 2nd=\"))\n",
        "if a>b:\n",
        "  print(f\"{a} is greatest\")\n",
        "else :\n",
        "  print(f\"{b} is greatest\")"
      ],
      "metadata": {
        "colab": {
          "base_uri": "https://localhost:8080/"
        },
        "id": "QduZZse_zZjX",
        "outputId": "4601cdea-47da-48a8-cfeb-0167da00ece0"
      },
      "execution_count": null,
      "outputs": [
        {
          "output_type": "stream",
          "name": "stdout",
          "text": [
            "enter 1st=2\n",
            "enter 2nd=4\n",
            "4 is greatest\n"
          ]
        }
      ]
    },
    {
      "cell_type": "code",
      "source": [
        "a=int(input(\"enter a no.=\"))\n",
        "if a%2==0:\n",
        "  print(f\"{a} is even\")\n",
        "else:\n",
        "  print(f\"{a} is odd \")\n"
      ],
      "metadata": {
        "colab": {
          "base_uri": "https://localhost:8080/"
        },
        "id": "6-yASigLz_zO",
        "outputId": "0e150567-d60c-4caa-bcf9-3257b60e6a57"
      },
      "execution_count": null,
      "outputs": [
        {
          "output_type": "stream",
          "name": "stdout",
          "text": [
            "enter a no.=0\n",
            "0 is even\n"
          ]
        }
      ]
    },
    {
      "cell_type": "code",
      "source": [
        "a=int(input(\"enter a no.=\"))\n",
        "if a%7==0:\n",
        "  print(f\"{a} is divisible by  7\")\n",
        "else :\n",
        "  print(f\"{a} isn't divisible by  7\")"
      ],
      "metadata": {
        "colab": {
          "base_uri": "https://localhost:8080/"
        },
        "id": "9qE_j2gk0epd",
        "outputId": "93ed3cc5-9207-4faf-92f3-940fb8231eba"
      },
      "execution_count": null,
      "outputs": [
        {
          "output_type": "stream",
          "name": "stdout",
          "text": [
            "enter a no.=1\n",
            "1 isn't divisible by  7\n"
          ]
        }
      ]
    },
    {
      "cell_type": "code",
      "source": [
        "a=int(input(\"enter marks in chemistry=\"))\n",
        "b=int(input(\"enter marks in physics=\"))\n",
        "c=int(input(\"enter marks in biology=\"))\n",
        "avg=(a+b+c)/3\n",
        "print(\"average mrks=\",avg)\n",
        "if avg>=80:\n",
        "  print(\"Grade is Distinction\")\n",
        "if 60<=avg<80:\n",
        "  print(\"Grade is First Division\")\n",
        "if 45<=avg<60:\n",
        "  print(\"Grade is second division\")\n",
        "if 40<=avg<45:\n",
        "  print(\"Grade is Pass\")\n",
        "if avg<40:\n",
        "  print(\"Grade is Promotion not granted \")\n",
        "\n",
        "\n"
      ],
      "metadata": {
        "colab": {
          "base_uri": "https://localhost:8080/"
        },
        "id": "sbMiu-UJ1EMB",
        "outputId": "67090742-8364-4a1a-b9cc-720d3c241c48"
      },
      "execution_count": null,
      "outputs": [
        {
          "output_type": "stream",
          "name": "stdout",
          "text": [
            "enter marks in chemistry=23\n",
            "enter marks in physics=90\n",
            "enter marks in biology=99\n",
            "average mrks= 70.66666666666667\n",
            "Grade is First Division\n"
          ]
        }
      ]
    }
  ]
}