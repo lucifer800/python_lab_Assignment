{
  "nbformat": 4,
  "nbformat_minor": 0,
  "metadata": {
    "colab": {
      "provenance": [],
      "authorship_tag": "ABX9TyOXFtMNUPtkAJxolg9vePdL",
      "include_colab_link": true
    },
    "kernelspec": {
      "name": "python3",
      "display_name": "Python 3"
    },
    "language_info": {
      "name": "python"
    }
  },
  "cells": [
    {
      "cell_type": "markdown",
      "metadata": {
        "id": "view-in-github",
        "colab_type": "text"
      },
      "source": [
        "<a href=\"https://colab.research.google.com/github/lucifer800/python_lab_Assignment/blob/main/Assignment_3.ipynb\" target=\"_parent\"><img src=\"https://colab.research.google.com/assets/colab-badge.svg\" alt=\"Open In Colab\"/></a>"
      ]
    },
    {
      "cell_type": "code",
      "execution_count": 9,
      "metadata": {
        "colab": {
          "base_uri": "https://localhost:8080/"
        },
        "id": "J4_0Esw8JFpH",
        "outputId": "86b7de63-477b-4d15-dc5b-69211762b998"
      },
      "outputs": [
        {
          "output_type": "stream",
          "name": "stdout",
          "text": [
            "enter a str=tanmay\n",
            "2\n"
          ]
        }
      ],
      "source": [
        "a=(input(\"enter a str=\"))\n",
        "count=0\n",
        "i=['a','e','i','o','u']\n",
        "c,d=0,0\n",
        "while c<len(a):\n",
        "  d=0 #reset d to 0 after execution of c[0] ones\n",
        "  while d<5:\n",
        "    if a[c]==i[d]:\n",
        "      count+=1\n",
        "    d=d+1\n",
        "  c+=1\n",
        "\n",
        "print(count)\n"
      ]
    },
    {
      "cell_type": "code",
      "source": [
        "!pip install ord\n",
        "\n",
        "def main():\n",
        "  a=input(\"enter a str=\")\n",
        "  print(lower_case(a))\n",
        "  print(upper_case(a))\n",
        "  print(toggle_case(a))\n",
        "\n",
        "\n",
        "def lower_case(a):\n",
        "  str_edit=\"\"\n",
        "  for chas in a :\n",
        "    if 65<=ord(chas)<=90 :\n",
        "        chas = chr(ord(chas)+32)\n",
        "    str_edit+=chas\n",
        "  return str_edit\n",
        "\n",
        "def upper_case(a):\n",
        "  str_edit=\"\"\n",
        "  for chas in a :\n",
        "    if 97<=ord(chas)<=122 :\n",
        "        chas = chr(ord(chas)-32)\n",
        "    str_edit+=chas\n",
        "  return str_edit\n",
        "\n",
        "def toggle_case(a):\n",
        "  str_edit=\"\"\n",
        "  for chas in a :\n",
        "    if 97<=ord(chas)<=122 :\n",
        "        chas = chr(ord(chas)-32)\n",
        "    elif 65<=ord(chas)<=90 :\n",
        "        chas = chr(ord(chas)+32)\n",
        "    str_edit+=chas\n",
        "  return str_edit\n",
        "\n",
        "main()\n",
        "\n"
      ],
      "metadata": {
        "colab": {
          "base_uri": "https://localhost:8080/"
        },
        "id": "SS_wvCemJzum",
        "outputId": "dd56bcd7-5b3c-410c-e47e-18735af1141d"
      },
      "execution_count": 27,
      "outputs": [
        {
          "output_type": "stream",
          "name": "stdout",
          "text": [
            "Requirement already satisfied: ord in /usr/local/lib/python3.11/dist-packages (1.7.1)\n",
            "enter a str=TanmaY\n",
            "tanmay\n",
            "TANMAY\n",
            "tANMAy\n"
          ]
        }
      ]
    },
    {
      "cell_type": "code",
      "source": [
        "a=input(\"enter a str=\")\n",
        "b=input(\"enter another str=\")\n",
        "if  a in b:\n",
        "  print(\"yes present\")\n",
        "elif b in a :\n",
        "  print(\"yes present\")\n",
        "else:\n",
        "  print(\"not present\")\n",
        "\n",
        ""
      ],
      "metadata": {
        "colab": {
          "base_uri": "https://localhost:8080/"
        },
        "id": "Gpvti-IeJzxO",
        "outputId": "57f265b3-8d73-46d1-928a-38fc431e2c39"
      },
      "execution_count": 28,
      "outputs": [
        {
          "output_type": "stream",
          "name": "stdout",
          "text": [
            "enter a str=anma\n",
            "enter another str=tanmay\n",
            "yes present\n"
          ]
        }
      ]
    },
    {
      "cell_type": "code",
      "source": [
        "a=input(\"eneter a  add string=\")\n",
        "remove=(input(\"enter removal str=\"))\n",
        "i=0\n",
        "final=\"\"\n",
        "while i<len(a):\n",
        "    if remove!=a[i:i+len(remove)]:\n",
        "      final+=a[i]\n",
        "    else:\n",
        "      i+=len(remove)-1\n",
        "    i+=1\n",
        "\n",
        "\n",
        "\n",
        "print(final)\n"
      ],
      "metadata": {
        "colab": {
          "base_uri": "https://localhost:8080/"
        },
        "id": "f5-uzNitJz0S",
        "outputId": "9f2c3a4f-f144-45d6-c57b-e2d894ac2077"
      },
      "execution_count": 37,
      "outputs": [
        {
          "output_type": "stream",
          "name": "stdout",
          "text": [
            "eneter a  add string=tanmay\n",
            "enter removal str=nm\n",
            "taay\n"
          ]
        }
      ]
    }
  ]
}