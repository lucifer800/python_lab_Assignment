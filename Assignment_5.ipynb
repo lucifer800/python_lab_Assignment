{
  "nbformat": 4,
  "nbformat_minor": 0,
  "metadata": {
    "colab": {
      "provenance": [],
      "authorship_tag": "ABX9TyPZp5zENNfsRYK92YGZ8lRS",
      "include_colab_link": true
    },
    "kernelspec": {
      "name": "python3",
      "display_name": "Python 3"
    },
    "language_info": {
      "name": "python"
    }
  },
  "cells": [
    {
      "cell_type": "markdown",
      "metadata": {
        "id": "view-in-github",
        "colab_type": "text"
      },
      "source": [
        "<a href=\"https://colab.research.google.com/github/lucifer800/python_lab_Assignment/blob/main/Assignment_5.ipynb\" target=\"_parent\"><img src=\"https://colab.research.google.com/assets/colab-badge.svg\" alt=\"Open In Colab\"/></a>"
      ]
    },
    {
      "cell_type": "code",
      "execution_count": 1,
      "metadata": {
        "colab": {
          "base_uri": "https://localhost:8080/"
        },
        "id": "EeLDdvao2UCV",
        "outputId": "05f0c28c-57c5-4c4c-aaba-3e112b48bdeb"
      },
      "outputs": [
        {
          "output_type": "stream",
          "name": "stdout",
          "text": [
            "[1, 2, 3, 4, 11, 12, 18, 19]\n"
          ]
        }
      ],
      "source": [
        "a=[2,4,12,10,18]\n",
        "b=[1,3,11,19]\n",
        "a=[2,4,12,*b,18]#flattern\n",
        "a.sort()#sort\n",
        "print(a)#print"
      ]
    },
    {
      "cell_type": "code",
      "source": [
        "import random\n",
        "b=random.sample(range(30),20)\n",
        "print(b)\n",
        "a=int(input(\"enter a number=\"))\n",
        "if (a in b):\n",
        "  i=0\n",
        "  while i<20:\n",
        "    d=0\n",
        "    if b[i]==a:\n",
        "      d+=1\n",
        "    i+=1\n",
        "    if d>0:\n",
        "      print(d)\n",
        "else:\n",
        "  print(\"the number u entered was not in the list\")\n"
      ],
      "metadata": {
        "colab": {
          "base_uri": "https://localhost:8080/"
        },
        "id": "1hGvlm166Z-Z",
        "outputId": "2868d2d7-3581-4021-d07b-b2c8a92e4cf2"
      },
      "execution_count": 33,
      "outputs": [
        {
          "output_type": "stream",
          "name": "stdout",
          "text": [
            "[26, 3, 4, 29, 14, 18, 7, 1, 13, 0, 24, 19, 22, 6, 17, 5, 25, 16, 10, 23]\n",
            "enter a number=4\n",
            "1\n"
          ]
        }
      ]
    },
    {
      "cell_type": "code",
      "source": [
        "import random\n",
        "a=random.choices(range(1,31),k=50)\n",
        "b=set(a)\n",
        "print(b)\n"
      ],
      "metadata": {
        "colab": {
          "base_uri": "https://localhost:8080/"
        },
        "id": "O8dxxRC-6aBc",
        "outputId": "b9384389-28f4-4890-f1d3-5d53054eded0"
      },
      "execution_count": 55,
      "outputs": [
        {
          "output_type": "stream",
          "name": "stdout",
          "text": [
            "{1, 2, 3, 4, 6, 7, 9, 10, 11, 12, 13, 14, 15, 16, 18, 19, 20, 21, 22, 24, 26, 27, 28, 29, 30}\n"
          ]
        }
      ]
    },
    {
      "cell_type": "code",
      "source": [
        "a=random.sample(range(50),30)\n",
        "b=random.choices(range(-100,-2),k=30)\n",
        "c=random.sample(range(1,101),30)\n",
        "d=[*a,*b,*c]\n",
        "print(d)"
      ],
      "metadata": {
        "colab": {
          "base_uri": "https://localhost:8080/"
        },
        "id": "8njVtobCkVav",
        "outputId": "5218165f-5545-4733-e05b-6bfc02eb82e4"
      },
      "execution_count": 57,
      "outputs": [
        {
          "output_type": "stream",
          "name": "stdout",
          "text": [
            "[35, 5, 23, 28, 22, 49, 46, 30, 15, 13, 26, 0, 34, 21, 47, 37, 9, 36, 42, 40, 27, 12, 48, 32, 31, 44, 41, 43, 17, 19, -40, -22, -89, -56, -92, -10, -87, -16, -39, -88, -81, -51, -14, -21, -83, -59, -97, -95, -46, -8, -71, -91, -17, -23, -83, -32, -75, -60, -30, -74, 88, 56, 82, 45, 23, 25, 92, 62, 95, 13, 59, 91, 34, 40, 70, 1, 96, 90, 17, 57, 77, 15, 19, 11, 74, 52, 60, 35, 42, 29]\n"
          ]
        }
      ]
    },
    {
      "cell_type": "code",
      "source": [
        "a = ['tanmay', 'divyesh', 'amit', 'soniya', 'god']\n",
        "final = []\n",
        "i = 0\n",
        "\n",
        "while i < len(a):\n",
        "    upper_name = \"\"\n",
        "    for b in a[i]:\n",
        "        if 97 <= ord(b) <= 122:\n",
        "            upper_name += chr(ord(b) - 32)\n",
        "        else:\n",
        "            upper_name += b\n",
        "    final.append(upper_name)\n",
        "    i += 1\n",
        "\n",
        "print(final)"
      ],
      "metadata": {
        "colab": {
          "base_uri": "https://localhost:8080/"
        },
        "id": "L9mXD_ZBkVeo",
        "outputId": "325b3195-d4da-4ce6-ed48-421264ed963a"
      },
      "execution_count": 62,
      "outputs": [
        {
          "output_type": "stream",
          "name": "stdout",
          "text": [
            "['TANMAY', 'DIVYESH', 'AMIT', 'SONIYA', 'GOD']\n"
          ]
        }
      ]
    },
    {
      "cell_type": "code",
      "source": [
        "f=[100,50,90,233,40]\n",
        "d=[]\n",
        "for i in f:\n",
        "  c = (i - 32) * (5/9)\n",
        "  c=round(c,2)\n",
        "  d.append(c)\n",
        "print(d)\n"
      ],
      "metadata": {
        "colab": {
          "base_uri": "https://localhost:8080/"
        },
        "id": "WMJqNaKW9bTl",
        "outputId": "97514c48-589e-49b6-c058-a8b9a813f2e6"
      },
      "execution_count": 72,
      "outputs": [
        {
          "output_type": "stream",
          "name": "stdout",
          "text": [
            "[37.78, 10.0, 32.22, 111.67, 4.44]\n"
          ]
        }
      ]
    },
    {
      "cell_type": "code",
      "source": [
        "a=[2,3,4,10,95,68]\n",
        "a.append(38)\n",
        "print(a[-1])#last come first serve"
      ],
      "metadata": {
        "colab": {
          "base_uri": "https://localhost:8080/"
        },
        "id": "CfPlGO1w9bWp",
        "outputId": "d23b8ce6-e2c5-4b1f-d574-945a19ea02a9"
      },
      "execution_count": 73,
      "outputs": [
        {
          "output_type": "stream",
          "name": "stdout",
          "text": [
            "38\n"
          ]
        }
      ]
    },
    {
      "cell_type": "code",
      "source": [
        "a=[2,3,13,6,85,24,74,80]\n",
        "b=[15,9,14,36,4,2,80]\n",
        "set_a=set(a)\n",
        "set_b=set(b)\n",
        "\n",
        "set_diff_a=set_a- set_b\n",
        "'''#elements from list a that ar not in list b,\n",
        " similarly you can do for elements that are present in lisst b and not in list a '''\n",
        "\n",
        "print(set_diff_a)\n"
      ],
      "metadata": {
        "colab": {
          "base_uri": "https://localhost:8080/"
        },
        "id": "EetM2LXV9bh5",
        "outputId": "dcb4b848-f45b-44be-cadb-7cf0db3f0026"
      },
      "execution_count": 2,
      "outputs": [
        {
          "output_type": "stream",
          "name": "stdout",
          "text": [
            "{3, 6, 74, 13, 85, 24}\n"
          ]
        }
      ]
    }
  ]
}