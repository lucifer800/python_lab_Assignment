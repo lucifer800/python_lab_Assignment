{
  "nbformat": 4,
  "nbformat_minor": 0,
  "metadata": {
    "colab": {
      "provenance": [],
      "authorship_tag": "ABX9TyPDvsWVvva43FWB6MR9CEyO",
      "include_colab_link": true
    },
    "kernelspec": {
      "name": "python3",
      "display_name": "Python 3"
    },
    "language_info": {
      "name": "python"
    }
  },
  "cells": [
    {
      "cell_type": "markdown",
      "metadata": {
        "id": "view-in-github",
        "colab_type": "text"
      },
      "source": [
        "<a href=\"https://colab.research.google.com/github/lucifer800/python_lab_Assignment/blob/main/Assignment_2.ipynb\" target=\"_parent\"><img src=\"https://colab.research.google.com/assets/colab-badge.svg\" alt=\"Open In Colab\"/></a>"
      ]
    },
    {
      "cell_type": "code",
      "execution_count": 1,
      "metadata": {
        "colab": {
          "base_uri": "https://localhost:8080/"
        },
        "id": "_Mry0hOJ8D6j",
        "outputId": "45d8b05d-2158-4ae4-8b8c-cc22a817486f"
      },
      "outputs": [
        {
          "output_type": "stream",
          "name": "stdout",
          "text": [
            "enter 1st=2\n",
            "enter 2nd=6\n",
            "6 is greatest\n"
          ]
        }
      ],
      "source": [
        "a=int(input(\"enter 1st=\"))\n",
        "b=int(input(\"enter 2nd=\"))\n",
        "if a>b:\n",
        "  print(f\"{a} is greatest\")\n",
        "else :\n",
        "  print(f\"{b} is greatest\")"
      ]
    },
    {
      "cell_type": "code",
      "source": [
        "a=int(input(\"enter 1st=\"))\n",
        "b=int(input(\"enter 2nd=\"))\n",
        "c=int(input(\"enter 3rd=\"))\n",
        "if a>b:\n",
        "  if a>c:\n",
        "    print(f\"{a} is greatest\")\n",
        "elif b>c:\n",
        "  print(f\"{b} is greatest\")\n",
        "\n",
        "else :\n",
        "  print(f\"{c} is greatest\")"
      ],
      "metadata": {
        "colab": {
          "base_uri": "https://localhost:8080/"
        },
        "id": "BPWSBxnO8qB-",
        "outputId": "11a8aa45-f101-40dc-d741-dece741e8a48"
      },
      "execution_count": 2,
      "outputs": [
        {
          "output_type": "stream",
          "name": "stdout",
          "text": [
            "enter 1st=2\n",
            "enter 2nd=5\n",
            "enter 3rd=9\n",
            "9 is greatest\n"
          ]
        }
      ]
    },
    {
      "cell_type": "code",
      "source": [
        "a=int(input(\"enter a no.=\"))\n",
        "if a%2==0:\n",
        "  print(f\"{a} is even\")\n",
        "else:\n",
        "  print(f\"{a} is odd \")"
      ],
      "metadata": {
        "colab": {
          "base_uri": "https://localhost:8080/"
        },
        "id": "mlEuyIlf91cK",
        "outputId": "2183dd68-ed31-43b4-f0d4-2b30274e4861"
      },
      "execution_count": 3,
      "outputs": [
        {
          "output_type": "stream",
          "name": "stdout",
          "text": [
            "enter a no.=89\n",
            "89 is odd \n"
          ]
        }
      ]
    },
    {
      "cell_type": "code",
      "source": [
        "a=int(input(\"enter a no.=\"))\n",
        "if a%10==0:\n",
        "  print(f\"{a} is divisible by  10\")\n",
        "else :\n",
        "  print(f\"{a} isn't divisible by  10\")"
      ],
      "metadata": {
        "colab": {
          "base_uri": "https://localhost:8080/"
        },
        "id": "9gMibmjm91f9",
        "outputId": "2d4679b8-0be8-4be2-aba7-bb2508abb573"
      },
      "execution_count": 4,
      "outputs": [
        {
          "output_type": "stream",
          "name": "stdout",
          "text": [
            "enter a no.=99\n",
            "99 isn't divisible by  10\n"
          ]
        }
      ]
    },
    {
      "cell_type": "code",
      "source": [
        "a=int(input(\"enter ur age=\"))\n",
        "if a>=18:\n",
        "  print(\"Major\")\n",
        "else:\n",
        "  print(\"Minor\")"
      ],
      "metadata": {
        "colab": {
          "base_uri": "https://localhost:8080/"
        },
        "id": "wAqQXrGw91jo",
        "outputId": "5ea089fa-850b-4e8a-b95d-ba873a18a3f8"
      },
      "execution_count": 5,
      "outputs": [
        {
          "output_type": "stream",
          "name": "stdout",
          "text": [
            "enter ur age=19\n",
            "Major\n"
          ]
        }
      ]
    },
    {
      "cell_type": "code",
      "source": [
        "a=int(input(\"enter a no.=\"))\n",
        "a=str(a)\n",
        "count=0\n",
        "for i in a:\n",
        "  count+=1\n",
        "print(\"No. of digits-\",count)"
      ],
      "metadata": {
        "colab": {
          "base_uri": "https://localhost:8080/"
        },
        "id": "m6BOTi4e91n3",
        "outputId": "8f1ef118-db07-47ae-cd9a-8f2f1d458b85"
      },
      "execution_count": 11,
      "outputs": [
        {
          "output_type": "stream",
          "name": "stdout",
          "text": [
            "enter a no.=121441\n",
            "No. of digits- 6\n"
          ]
        }
      ]
    },
    {
      "cell_type": "code",
      "source": [
        "a=int(input(\"enter a year=\"))\n",
        "if a%4==0:\n",
        "  print(f\"{a} is a leap year\")\n",
        "else:\n",
        "  print(f\"{a} isn't a leap year\")"
      ],
      "metadata": {
        "colab": {
          "base_uri": "https://localhost:8080/"
        },
        "id": "maqOI4FsBPG8",
        "outputId": "fe3d8fbc-7e2e-44e7-c244-e576093eb2ff"
      },
      "execution_count": 12,
      "outputs": [
        {
          "output_type": "stream",
          "name": "stdout",
          "text": [
            "enter a year=2025\n",
            "2025 isn't a leap year\n"
          ]
        }
      ]
    },
    {
      "cell_type": "code",
      "source": [
        "a=int(input(\"enter 1st angle=\"))\n",
        "b=int(input(\"enter 2nd angle=\"))\n",
        "c=int(input(\"enter 3rd angle=\"))\n",
        "sum=a+b+c\n",
        "if sum==180:\n",
        "  print(\" it is a triangle \")\n",
        "else :\n",
        "  print(\"it isn't a triangle\")"
      ],
      "metadata": {
        "colab": {
          "base_uri": "https://localhost:8080/"
        },
        "id": "prBz6KhuBPNM",
        "outputId": "026a1ddc-cf21-4281-dbd3-ee6e535aaceb"
      },
      "execution_count": 13,
      "outputs": [
        {
          "output_type": "stream",
          "name": "stdout",
          "text": [
            "enter 1st angle=12\n",
            "enter 2nd angle=78\n",
            "enter 3rd angle=90\n",
            " it is a triangle \n"
          ]
        }
      ]
    },
    {
      "cell_type": "code",
      "source": [
        "a=float(input(\"enter a no.=\"))\n",
        "a=round(a*a,3)\n",
        "print(f\"the asolute value={a}\")"
      ],
      "metadata": {
        "colab": {
          "base_uri": "https://localhost:8080/"
        },
        "id": "CrONzOgQBPQ1",
        "outputId": "c381982b-95fb-486b-d529-d993eb6751c8"
      },
      "execution_count": 18,
      "outputs": [
        {
          "output_type": "stream",
          "name": "stdout",
          "text": [
            "enter a no.=-2.4\n",
            "the asolute value=5.76\n"
          ]
        }
      ]
    },
    {
      "cell_type": "code",
      "source": [
        "a=int(input(\"enter length=\"))\n",
        "b=int(input(\"enter breadth=\"))\n",
        "per=int(2*(a+b))\n",
        "area=int(a*b)\n",
        "if area>per:\n",
        "  print(\"area is greatest\")\n",
        "elif per>area:\n",
        "  print(\"perimeter is greatest\")\n",
        "else:\n",
        "  print(\"both are equal\")"
      ],
      "metadata": {
        "colab": {
          "base_uri": "https://localhost:8080/"
        },
        "id": "GOYAjG7eBPUu",
        "outputId": "a6ec7b97-5b01-464b-a9ef-912808a5c693"
      },
      "execution_count": 22,
      "outputs": [
        {
          "output_type": "stream",
          "name": "stdout",
          "text": [
            "enter length=2\n",
            "enter breadth=3\n",
            "perimeter is greatest\n"
          ]
        }
      ]
    },
    {
      "cell_type": "code",
      "source": [
        "a=int(input(\"enter x1=\"))\n",
        "b=int(input(\"enter y1=\"))\n",
        "c=int(input(\"enter x2=\"))\n",
        "d=int(input(\"enter y2=\"))\n",
        "e=int(input(\"enter x3=\"))\n",
        "f=int(input(\"enter y3=\"))\n",
        "l1=(d-b)/(c-a)\n",
        "l2=(f-d)/(e-c)\n",
        "if l1==l2:\n",
        "  print(\"straigth line\")\n",
        "else:\n",
        "  print(\"not straight line2x\")\n"
      ],
      "metadata": {
        "colab": {
          "base_uri": "https://localhost:8080/"
        },
        "id": "mB-pt7E7BPea",
        "outputId": "e9b4dc97-8169-49a6-bc00-bce821b2bd42"
      },
      "execution_count": 24,
      "outputs": [
        {
          "output_type": "stream",
          "name": "stdout",
          "text": [
            "enter x1=1\n",
            "enter y1=2\n",
            "enter x2=3\n",
            "enter y2=6\n",
            "enter x3=0\n",
            "enter y3=0\n",
            "straigth line\n"
          ]
        }
      ]
    },
    {
      "cell_type": "code",
      "source": [
        "a=int(input(\"enter center x=\"))\n",
        "b=int(input(\"enter center y=\"))\n",
        "r=int(input(\"enter r=\"))\n",
        "x=int(input(\"enter point to be checked x1=\"))\n",
        "y=int(input(\"enter point to be checked y1=\"))\n",
        "check=(x-a)**2+(y-b)**2\n",
        "if check >(r**2):\n",
        "  print(\"lies outside\")\n",
        "elif check<(r**2):\n",
        "  print(\"lies inside\")\n",
        "else:\n",
        "  print(\"lies on circle\")\n"
      ],
      "metadata": {
        "colab": {
          "base_uri": "https://localhost:8080/"
        },
        "id": "Jt__OIg-V666",
        "outputId": "0961e999-385f-495f-c53e-474bb8b37742"
      },
      "execution_count": 26,
      "outputs": [
        {
          "output_type": "stream",
          "name": "stdout",
          "text": [
            "enter center x=0\n",
            "enter center y=0\n",
            "enter r=4\n",
            "enter point to be checked x1=1\n",
            "enter point to be checked y1=3\n",
            "lies inside\n"
          ]
        }
      ]
    },
    {
      "cell_type": "code",
      "source": [
        "!pip install num2words\n",
        "import num2words\n",
        "a=int(input(\"enter a no.=\"))\n",
        "print(num2words.num2words(a))\n"
      ],
      "metadata": {
        "colab": {
          "base_uri": "https://localhost:8080/"
        },
        "id": "-0yQwoPrV7E6",
        "outputId": "a5ce57c0-7503-45a2-ef21-7aceb0a6c535"
      },
      "execution_count": 32,
      "outputs": [
        {
          "output_type": "stream",
          "name": "stdout",
          "text": [
            "Requirement already satisfied: num2words in /usr/local/lib/python3.11/dist-packages (0.5.14)\n",
            "Requirement already satisfied: docopt>=0.6.2 in /usr/local/lib/python3.11/dist-packages (from num2words) (0.6.2)\n",
            "enter a no.=12\n",
            "twelve\n"
          ]
        }
      ]
    },
    {
      "cell_type": "code",
      "source": [
        "a=int(input(\"enter his marks=\"))\n",
        "if 80<=a<=100 :\n",
        "  print(\"O\")\n",
        "elif 70<=a<=79:\n",
        "  print(\"A+\")\n",
        "elif 60<=a<=69:\n",
        "  print(\"A\")\n",
        "elif 55<=a<=59:\n",
        "  print(\"B+\")\n",
        "elif 50<=a<=54:\n",
        "  print(\"B\")\n",
        "elif 45<=a<=49:\n",
        "  print(\"C\")\n",
        "elif 40<=a<=45:\n",
        "  print(\"P\")\n",
        "elif 0<=a<=39:\n",
        "  print(\"F\")\n",
        "else:\n",
        "  print(\"absent-NA\")"
      ],
      "metadata": {
        "colab": {
          "base_uri": "https://localhost:8080/"
        },
        "id": "8Aq_U-mEZYf5",
        "outputId": "3a21fb15-aedd-49aa-f903-aa4a08cd0700"
      },
      "execution_count": 33,
      "outputs": [
        {
          "output_type": "stream",
          "name": "stdout",
          "text": [
            "enter his marks=53\n",
            "B\n"
          ]
        }
      ]
    }
  ]
}